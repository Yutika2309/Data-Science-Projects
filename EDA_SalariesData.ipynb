{
 "cells": [
  {
   "cell_type": "markdown",
   "metadata": {},
   "source": [
    "**Name:** Yutika Rege\n",
    "\n",
    "**PRN:** 190202012\n",
    "\n",
    "**DS303:** Machine Learning 1"
   ]
  },
  {
   "cell_type": "markdown",
   "metadata": {},
   "source": [
    "**Task:** Perform an exploratory data analysis on the \"Salaries_DA.csv\" dataset with the following sections using Pandas, and Numpy libraries.\n",
    "\n",
    "**Problem Statement:** Using Pandas, Numpy and Matplotlib libraries in Python perform the following."
   ]
  },
  {
   "cell_type": "markdown",
   "metadata": {},
   "source": [
    "**a) Use NumPy to generate an array of 25 random numbers sampled from a standard normal distribution.**"
   ]
  },
  {
   "cell_type": "code",
   "execution_count": 1,
   "metadata": {},
   "outputs": [],
   "source": [
    "import numpy as np"
   ]
  },
  {
   "cell_type": "code",
   "execution_count": 2,
   "metadata": {},
   "outputs": [
    {
     "name": "stdout",
     "output_type": "stream",
     "text": [
      "25 random numbers from a standard normal distribution:\n",
      " [-0.0026838   0.20634852 -1.40233577  1.6146591  -0.5610619   0.67917319\n",
      "  0.30466312  2.21042272  1.50002799  1.03794186 -1.29114488 -0.65587842\n",
      "  0.19561512  0.83957647  0.03158044 -0.95308265 -0.65797534  0.43366011\n",
      " -1.80326545 -1.0244161   0.40704608  1.83317458 -0.44528697 -0.29266465\n",
      "  0.26040964]\n"
     ]
    }
   ],
   "source": [
    "rand_num = np.random.normal(0,1,25)\n",
    "print(\"25 random numbers from a standard normal distribution:\\n\",rand_num)"
   ]
  },
  {
   "cell_type": "markdown",
   "metadata": {},
   "source": [
    "**b) mat = np.arange(1,26).reshape(5,5) , Get the sum of all the columns in mat.**"
   ]
  },
  {
   "cell_type": "code",
   "execution_count": 3,
   "metadata": {},
   "outputs": [
    {
     "data": {
      "text/plain": [
       "array([55, 60, 65, 70, 75])"
      ]
     },
     "execution_count": 3,
     "metadata": {},
     "output_type": "execute_result"
    }
   ],
   "source": [
    "mat = np.arange(1,26).reshape(5,5)\n",
    "mat.sum(axis=0)"
   ]
  },
  {
   "cell_type": "markdown",
   "metadata": {},
   "source": [
    "**c) How many Job Titles were represented by only one person in 2013? Display them. (E.g. Job Titles with only one occurrence in 2013?) Refer Salaries.csv**"
   ]
  },
  {
   "cell_type": "code",
   "execution_count": 4,
   "metadata": {},
   "outputs": [],
   "source": [
    "import pandas as pd"
   ]
  },
  {
   "cell_type": "code",
   "execution_count": 5,
   "metadata": {},
   "outputs": [],
   "source": [
    "df = pd.read_csv(\"Salaries_DA.csv\")"
   ]
  },
  {
   "cell_type": "code",
   "execution_count": 7,
   "metadata": {},
   "outputs": [
    {
     "name": "stdout",
     "output_type": "stream",
     "text": [
      "                          JobTitles\n",
      "0         Media Training Specialist\n",
      "1            Senior Pharmacy Helper\n",
      "2            Sup Ct Admin Secretary\n",
      "3          Power Plant Supervisor 1\n",
      "4    Pr Investigator, Tax Collector\n",
      "..                              ...\n",
      "197        Shelter Office Asst Supv\n",
      "198       Window Cleaner Supervisor\n",
      "199               District Attorney\n",
      "200      Chief Electrical Inspector\n",
      "201       Crane Mechanic Supervisor\n",
      "\n",
      "[202 rows x 1 columns]\n",
      "\n",
      "Total Job titles with only one occurence in 2013:  202\n"
     ]
    }
   ],
   "source": [
    "job=df[df['Year']==2013] \n",
    "job1=job['JobTitle'].value_counts()\n",
    "result=job1[job1==1]\n",
    "fin_result=pd.DataFrame (result)\n",
    "fin_result.drop(\"JobTitle\", axis=1, inplace=True) \n",
    "fin_result['JobTitles']=fin_result.index\n",
    "fin_result.reset_index(drop=True, inplace=True) \n",
    "print (fin_result)\n",
    "print()\n",
    "print(\"Total Job titles with only one occurence in 2013: \", fin_result.size)"
   ]
  },
  {
   "cell_type": "markdown",
   "metadata": {},
   "source": [
    "**d) How many people have the word Chief in their job title? Refer Salaries.csv**"
   ]
  },
  {
   "cell_type": "code",
   "execution_count": 8,
   "metadata": {},
   "outputs": [
    {
     "data": {
      "text/plain": [
       "627"
      ]
     },
     "execution_count": 8,
     "metadata": {},
     "output_type": "execute_result"
    }
   ],
   "source": [
    "df[\"JobTitle\"].apply(lambda str:(\"chief\" in str.lower())).sum()"
   ]
  }
 ],
 "metadata": {
  "kernelspec": {
   "display_name": "Python 3",
   "language": "python",
   "name": "python3"
  },
  "language_info": {
   "codemirror_mode": {
    "name": "ipython",
    "version": 3
   },
   "file_extension": ".py",
   "mimetype": "text/x-python",
   "name": "python",
   "nbconvert_exporter": "python",
   "pygments_lexer": "ipython3",
   "version": "3.8.3"
  }
 },
 "nbformat": 4,
 "nbformat_minor": 4
}
